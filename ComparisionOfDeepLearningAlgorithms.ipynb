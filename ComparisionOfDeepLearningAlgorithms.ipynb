{
 "cells": [
  {
   "cell_type": "markdown",
   "metadata": {},
   "source": [
    "\n",
    "\n",
    "# Mnist Dataset Üzerinde Derin Öğrenme Algoritmalarının Karşılaştırılması\n",
    "\n"
   ]
  },
  {
   "cell_type": "markdown",
   "metadata": {},
   "source": [
    "## ANN\n",
    "****"
   ]
  },
  {
   "cell_type": "code",
   "execution_count": null,
   "metadata": {},
   "outputs": [],
   "source": [
    "#Import\n",
    "from keras.datasets import mnist\n",
    "from keras.models import Sequential \n",
    "from keras.layers.core import Dense, Activation\n",
    "from keras.utils import np_utils\n",
    "\n",
    "import numpy as np\n",
    "import matplotlib.pyplot as plt\n",
    "\n",
    "import pydot\n",
    "#import graphviz\n",
    "\n",
    "from keras.utils.vis_utils import plot_model"
   ]
  },
  {
   "cell_type": "code",
   "execution_count": 25,
   "metadata": {},
   "outputs": [],
   "source": [
    "###1. Load Data and Splot Data\n",
    "(X_train, Y_train), (X_test, Y_test) = mnist.load_data()"
   ]
  },
  {
   "cell_type": "code",
   "execution_count": 26,
   "metadata": {},
   "outputs": [],
   "source": [
    "###2.Preprocess\n",
    "#yeniden boyutlandırma\n",
    "X_train = X_train.reshape(60000, 784)     \n",
    "X_test = X_test.reshape(10000, 784)\n",
    "#Daha verimli model için float veri tipi (Hassasiyet)\n",
    "X_train = X_train.astype('float32')     \n",
    "X_test = X_test.astype('float32')     \n",
    "#Ölçeklme\n",
    "X_train /= 255    \n",
    "X_test /= 255\n",
    "#Çıktı sayısı\n",
    "classes = 10\n",
    "#vektörünü --> matrise çevirme\n",
    "Y_train = np_utils.to_categorical(Y_train, classes)     \n",
    "Y_test = np_utils.to_categorical(Y_test, classes)"
   ]
  },
  {
   "cell_type": "code",
   "execution_count": 27,
   "metadata": {},
   "outputs": [],
   "source": [
    "###3. Set up parameters\n",
    "input_size = 784\n",
    "#Günelleme için alınan veri kümesinin boyutu\n",
    "batch_size = 100\n",
    "#Ara katmandaki nöron sayısı\n",
    "hidden_neurons = 400\n",
    "#DöngÜ saysı\n",
    "epochs = 30"
   ]
  },
  {
   "cell_type": "code",
   "execution_count": 28,
   "metadata": {},
   "outputs": [
    {
     "name": "stdout",
     "output_type": "stream",
     "text": [
      "Epoch 1/30\n",
      "600/600 [==============================] - 2s 3ms/step - loss: 2.3363 - accuracy: 0.1172\n",
      "Epoch 2/30\n",
      "600/600 [==============================] - 2s 3ms/step - loss: 2.1707 - accuracy: 0.2437\n",
      "Epoch 3/30\n",
      "600/600 [==============================] - 2s 3ms/step - loss: 2.0187 - accuracy: 0.4011\n",
      "Epoch 4/30\n",
      "600/600 [==============================] - 2s 3ms/step - loss: 1.8780 - accuracy: 0.5497\n",
      "Epoch 5/30\n",
      "600/600 [==============================] - 2s 3ms/step - loss: 1.7475 - accuracy: 0.6418\n",
      "Epoch 6/30\n",
      "600/600 [==============================] - 2s 3ms/step - loss: 1.6265 - accuracy: 0.6913\n",
      "Epoch 7/30\n",
      "600/600 [==============================] - 2s 3ms/step - loss: 1.5152 - accuracy: 0.7220\n",
      "Epoch 8/30\n",
      "600/600 [==============================] - 1s 2ms/step - loss: 1.4130 - accuracy: 0.7437\n",
      "Epoch 9/30\n",
      "600/600 [==============================] - 2s 3ms/step - loss: 1.3199 - accuracy: 0.7614\n",
      "Epoch 10/30\n",
      "600/600 [==============================] - 2s 3ms/step - loss: 1.2360 - accuracy: 0.7753\n",
      "Epoch 11/30\n",
      "600/600 [==============================] - 2s 3ms/step - loss: 1.1610 - accuracy: 0.7865\n",
      "Epoch 12/30\n",
      "600/600 [==============================] - 2s 3ms/step - loss: 1.0936 - accuracy: 0.7957\n",
      "Epoch 13/30\n",
      "600/600 [==============================] - 2s 3ms/step - loss: 1.0336 - accuracy: 0.8041\n",
      "Epoch 14/30\n",
      "600/600 [==============================] - 2s 3ms/step - loss: 0.9801 - accuracy: 0.8114\n",
      "Epoch 15/30\n",
      "600/600 [==============================] - 2s 3ms/step - loss: 0.9323 - accuracy: 0.8176\n",
      "Epoch 16/30\n",
      "600/600 [==============================] - 2s 3ms/step - loss: 0.8898 - accuracy: 0.8233\n",
      "Epoch 17/30\n",
      "600/600 [==============================] - 2s 3ms/step - loss: 0.8518 - accuracy: 0.8277\n",
      "Epoch 18/30\n",
      "600/600 [==============================] - 2s 3ms/step - loss: 0.8177 - accuracy: 0.8320\n",
      "Epoch 19/30\n",
      "600/600 [==============================] - 2s 3ms/step - loss: 0.7869 - accuracy: 0.8362\n",
      "Epoch 20/30\n",
      "600/600 [==============================] - 2s 3ms/step - loss: 0.7591 - accuracy: 0.8397\n",
      "Epoch 21/30\n",
      "600/600 [==============================] - 2s 3ms/step - loss: 0.7338 - accuracy: 0.8433\n",
      "Epoch 22/30\n",
      "600/600 [==============================] - 2s 3ms/step - loss: 0.7110 - accuracy: 0.8468\n",
      "Epoch 23/30\n",
      "600/600 [==============================] - 2s 3ms/step - loss: 0.6902 - accuracy: 0.8496\n",
      "Epoch 24/30\n",
      "600/600 [==============================] - 2s 3ms/step - loss: 0.6711 - accuracy: 0.8524\n",
      "Epoch 25/30\n",
      "600/600 [==============================] - 2s 3ms/step - loss: 0.6536 - accuracy: 0.8547\n",
      "Epoch 26/30\n",
      "600/600 [==============================] - 2s 3ms/step - loss: 0.6375 - accuracy: 0.8569\n",
      "Epoch 27/30\n",
      "600/600 [==============================] - 2s 3ms/step - loss: 0.6226 - accuracy: 0.8591\n",
      "Epoch 28/30\n",
      "600/600 [==============================] - 2s 3ms/step - loss: 0.6088 - accuracy: 0.8615\n",
      "Epoch 29/30\n",
      "600/600 [==============================] - 2s 3ms/step - loss: 0.5961 - accuracy: 0.8631\n",
      "Epoch 30/30\n",
      "600/600 [==============================] - 2s 3ms/step - loss: 0.5842 - accuracy: 0.8648\n"
     ]
    }
   ],
   "source": [
    "###4.Build the model\n",
    "model = Sequential()     \n",
    "model.add(Dense(hidden_neurons, input_dim=input_size)) \n",
    "model.add(Activation('relu'))     \n",
    "model.add(Dense(classes, input_dim=hidden_neurons)) \n",
    "model.add(Activation('softmax'))\n",
    " \n",
    "model.compile(loss='categorical_crossentropy', \n",
    "    metrics=['accuracy'], optimizer='adadelta')\n",
    "history_ann=model.fit(X_train, Y_train, batch_size=batch_size, epochs=epochs, verbose=1)"
   ]
  },
  {
   "cell_type": "code",
   "execution_count": 29,
   "metadata": {},
   "outputs": [
    {
     "name": "stdout",
     "output_type": "stream",
     "text": [
      "313/313 [==============================] - 0s 709us/step - loss: 0.5576 - accuracy: 0.8721\n",
      "\n",
      "Test accuracy: 0.8720999956130981\n"
     ]
    }
   ],
   "source": [
    "###5.Test \n",
    "score_ann = model.evaluate(X_test, Y_test, verbose=1)\n",
    "print('\\n''Test accuracy:', score_ann[1]) \n",
    "#Test accuracy: 0.983"
   ]
  },
  {
   "cell_type": "code",
   "execution_count": 60,
   "metadata": {},
   "outputs": [
    {
     "data": {
      "image/png": "[encoded data removed]",
      "text/plain": [
       "<Figure size 432x288 with 1 Axes>"
      ]
     },
     "metadata": {
      "needs_background": "light"
     },
     "output_type": "display_data"
    },
    {
     "data": {
      "text/plain": [
       "<Figure size 432x288 with 0 Axes>"
      ]
     },
     "metadata": {},
     "output_type": "display_data"
    }
   ],
   "source": [
    "loss = history_ann.history['loss']\n",
    "epochs = range(1,31)\n",
    "plt.plot(epochs, loss, 'g', label='loss')\n",
    "plt.title('loss')\n",
    "plt.xlabel('Epochs')\n",
    "plt.ylabel('Loss')\n",
    "plt.legend()\n",
    "plt.show()\n",
    "\n",
    "plt.savefig('Ann_loss.png')"
   ]
  },
  {
   "cell_type": "code",
   "execution_count": 61,
   "metadata": {},
   "outputs": [
    {
     "data": {
      "image/png": "[encoded data removed]",
      "text/plain": [
       "<Figure size 432x288 with 1 Axes>"
      ]
     },
     "metadata": {
      "needs_background": "light"
     },
     "output_type": "display_data"
    },
    {
     "data": {
      "text/plain": [
       "<Figure size 432x288 with 0 Axes>"
      ]
     },
     "metadata": {},
     "output_type": "display_data"
    }
   ],
   "source": [
    "acc = history_ann.history['accuracy']\n",
    "epochs = range(1,31)\n",
    "plt.plot(epochs, acc, 'b', label='acc')\n",
    "plt.title('accuracy')\n",
    "plt.xlabel('Epochs')\n",
    "plt.ylabel('accuracy')\n",
    "plt.legend()\n",
    "plt.show()\n",
    "\n",
    "plt.savefig('Ann_acc.png')"
   ]
  },
  {
   "cell_type": "markdown",
   "metadata": {},
   "source": [
    "## CNN\n",
    "****"
   ]
  },
  {
   "cell_type": "code",
   "execution_count": 32,
   "metadata": {},
   "outputs": [],
   "source": [
    "#Import\n",
    "import numpy as np     \n",
    "np.random.seed(0)  #for reproducibility            \n",
    " \n",
    "from keras.datasets import mnist\n",
    "from keras.models import Sequential \n",
    "from keras.layers import Dense, Activation\n",
    "from keras.layers import Convolution2D, MaxPooling2D\n",
    "from keras.layers import Dropout, Flatten\n",
    " \n",
    "from keras.utils import np_utils"
   ]
  },
  {
   "cell_type": "code",
   "execution_count": 33,
   "metadata": {},
   "outputs": [],
   "source": [
    "###1. Load Data and Splot Data\n",
    "(X_train, Y_train), (X_test, Y_test) = mnist.load_data()"
   ]
  },
  {
   "cell_type": "code",
   "execution_count": 34,
   "metadata": {},
   "outputs": [],
   "source": [
    "###2.Preprocess\n",
    "X_train = X_train.reshape(60000, 28, 28, 1)     \n",
    "X_test = X_test.reshape(10000, 28, 28, 1)\n",
    " \n",
    "X_train = X_train.astype('float32')     \n",
    "X_test = X_test.astype('float32')     \n",
    "X_train /= 255    \n",
    "X_test /= 255\n",
    " \n",
    "Y_train = np_utils.to_categorical(Y_train, classes)     \n",
    "Y_test = np_utils.to_categorical(Y_test, classes)\n",
    " "
   ]
  },
  {
   "cell_type": "code",
   "execution_count": 35,
   "metadata": {},
   "outputs": [],
   "source": [
    "###3. Set up parameters\n",
    "input_size = 784\n",
    "batch_size = 100    \n",
    "hidden_neurons = 200\n",
    "classes = 10    \n",
    "epochs = 8"
   ]
  },
  {
   "cell_type": "code",
   "execution_count": 36,
   "metadata": {},
   "outputs": [
    {
     "name": "stdout",
     "output_type": "stream",
     "text": [
      "Epoch 1/8\n",
      "540/540 [==============================] - 30s 56ms/step - loss: 2.2742 - accuracy: 0.1897 - val_loss: 2.2421 - val_accuracy: 0.3313\n",
      "Epoch 2/8\n",
      "540/540 [==============================] - 31s 57ms/step - loss: 2.2169 - accuracy: 0.3440 - val_loss: 2.1653 - val_accuracy: 0.4790\n",
      "Epoch 3/8\n",
      "540/540 [==============================] - 32s 59ms/step - loss: 2.1337 - accuracy: 0.4796 - val_loss: 2.0508 - val_accuracy: 0.6022\n",
      "Epoch 4/8\n",
      "540/540 [==============================] - 29s 54ms/step - loss: 2.0045 - accuracy: 0.5780 - val_loss: 1.8782 - val_accuracy: 0.6865\n",
      "Epoch 5/8\n",
      "540/540 [==============================] - 29s 53ms/step - loss: 1.8132 - accuracy: 0.6494 - val_loss: 1.6341 - val_accuracy: 0.7375\n",
      "Epoch 6/8\n",
      "540/540 [==============================] - 29s 54ms/step - loss: 1.5584 - accuracy: 0.6956 - val_loss: 1.3415 - val_accuracy: 0.7830\n",
      "Epoch 7/8\n",
      "540/540 [==============================] - 28s 52ms/step - loss: 1.2870 - accuracy: 0.7336 - val_loss: 1.0663 - val_accuracy: 0.8138\n",
      "Epoch 8/8\n",
      "540/540 [==============================] - 28s 52ms/step - loss: 1.0598 - accuracy: 0.7609 - val_loss: 0.8583 - val_accuracy: 0.8335\n"
     ]
    }
   ],
   "source": [
    "###4.Build the model\n",
    "model = Sequential() \n",
    "model.add(Convolution2D(32, (3, 3), input_shape=(28, 28, 1)))\n",
    "model.add(Activation('relu'))\n",
    "model.add(Convolution2D(32, (3, 3)))  \n",
    "model.add(Activation('relu'))\n",
    "model.add(MaxPooling2D(pool_size=(2, 2))) \n",
    "model.add(Dropout(0.25))  \n",
    "                \n",
    "model.add(Flatten())\n",
    "  \n",
    "model.add(Dense(hidden_neurons)) \n",
    "model.add(Activation('relu'))      \n",
    "model.add(Dense(classes)) \n",
    "model.add(Activation('softmax'))\n",
    "      \n",
    " \n",
    "model.compile(loss='categorical_crossentropy', \n",
    "    metrics=['accuracy'], optimizer='adadelta')\n",
    " \n",
    "history_cnn=model.fit(X_train, Y_train, batch_size=batch_size, epochs=epochs, \n",
    "    validation_split = 0.1, verbose=1)"
   ]
  },
  {
   "cell_type": "code",
   "execution_count": 62,
   "metadata": {},
   "outputs": [
    {
     "name": "stdout",
     "output_type": "stream",
     "text": [
      "313/313 [==============================] - 22s 70ms/step - loss: 0.0527 - accuracy: 0.9834\n",
      "Test accuracy: 0.9833999872207642\n"
     ]
    }
   ],
   "source": [
    "###5.Test \n",
    "score_cnn = model.evaluate(X_test, Y_test, verbose=1)\n",
    "print('Test accuracy:', score_cnn[1]) \n",
    "#Test accuracy: 0.9906"
   ]
  },
  {
   "cell_type": "code",
   "execution_count": 63,
   "metadata": {},
   "outputs": [
    {
     "data": {
      "image/png": "[encoded data removed]",
      "text/plain": [
       "<Figure size 432x288 with 1 Axes>"
      ]
     },
     "metadata": {
      "needs_background": "light"
     },
     "output_type": "display_data"
    },
    {
     "data": {
      "text/plain": [
       "<Figure size 432x288 with 0 Axes>"
      ]
     },
     "metadata": {},
     "output_type": "display_data"
    }
   ],
   "source": [
    "loss = history_cnn.history['loss']\n",
    "epochs = range(1,9)\n",
    "plt.plot(epochs, loss, 'g', label='loss')\n",
    "plt.title('loss')\n",
    "plt.xlabel('Epochs')\n",
    "plt.ylabel('Loss')\n",
    "plt.legend()\n",
    "plt.show()\n",
    "\n",
    "plt.savefig('Cnn_loss.png')"
   ]
  },
  {
   "cell_type": "code",
   "execution_count": 64,
   "metadata": {},
   "outputs": [
    {
     "data": {
      "image/png": "[encoded data removed]",
      "text/plain": [
       "<Figure size 432x288 with 1 Axes>"
      ]
     },
     "metadata": {
      "needs_background": "light"
     },
     "output_type": "display_data"
    },
    {
     "data": {
      "text/plain": [
       "<Figure size 432x288 with 0 Axes>"
      ]
     },
     "metadata": {},
     "output_type": "display_data"
    }
   ],
   "source": [
    "acc = history_cnn.history['accuracy']\n",
    "epochs = range(1,9)\n",
    "plt.plot(epochs, acc, 'b', label='acc')\n",
    "plt.title('accuracy')\n",
    "plt.xlabel('Epochs')\n",
    "plt.ylabel('accuracy')\n",
    "plt.legend()\n",
    "plt.show()\n",
    "\n",
    "plt.savefig('Cnn_acc.png')"
   ]
  },
  {
   "cell_type": "code",
   "execution_count": 65,
   "metadata": {},
   "outputs": [
    {
     "data": {
      "image/png": "[encoded data removed]",
      "text/plain": [
       "<Figure size 432x288 with 1 Axes>"
      ]
     },
     "metadata": {
      "needs_background": "light"
     },
     "output_type": "display_data"
    },
    {
     "data": {
      "text/plain": [
       "<Figure size 432x288 with 0 Axes>"
      ]
     },
     "metadata": {},
     "output_type": "display_data"
    }
   ],
   "source": [
    "val_loss = history_cnn.history['val_loss']\n",
    "epochs = range(1,9)\n",
    "plt.plot(epochs, acc, 'b', label='acc')\n",
    "plt.title('val_loss')\n",
    "plt.xlabel('Epochs')\n",
    "plt.ylabel('loss')\n",
    "plt.legend()\n",
    "plt.show()\n",
    "\n",
    "plt.savefig('Ann_val_loss.png')"
   ]
  },
  {
   "cell_type": "code",
   "execution_count": 66,
   "metadata": {},
   "outputs": [
    {
     "data": {
      "image/png": "[encoded data removed]",
      "text/plain": [
       "<Figure size 432x288 with 1 Axes>"
      ]
     },
     "metadata": {
      "needs_background": "light"
     },
     "output_type": "display_data"
    },
    {
     "data": {
      "text/plain": [
       "<Figure size 432x288 with 0 Axes>"
      ]
     },
     "metadata": {},
     "output_type": "display_data"
    }
   ],
   "source": [
    "val_accuracy = history_cnn.history['val_accuracy']\n",
    "epochs = range(1,9)\n",
    "plt.plot(epochs, acc, 'b', label='acc')\n",
    "plt.title('val_accuracy')\n",
    "plt.xlabel('Epochs')\n",
    "plt.ylabel('accuracy')\n",
    "plt.legend()\n",
    "plt.show()\n",
    "\n",
    "plt.savefig('Ann_val_accuracy.png')"
   ]
  },
  {
   "cell_type": "markdown",
   "metadata": {},
   "source": [
    "## RNN\n",
    "----"
   ]
  },
  {
   "cell_type": "code",
   "execution_count": 50,
   "metadata": {},
   "outputs": [],
   "source": [
    "#Import\n",
    "from __future__ import print_function\n",
    "\n",
    "import keras\n",
    "from keras.datasets import mnist\n",
    "from keras.models import Model\n",
    "from keras.layers import Input, Dense, TimeDistributed\n",
    "from keras.layers import LSTM\n",
    "\n",
    "from keras.utils.vis_utils import plot_model"
   ]
  },
  {
   "cell_type": "code",
   "execution_count": 51,
   "metadata": {},
   "outputs": [],
   "source": [
    "#1 The data, split between train and test sets.\n",
    "(x_train, y_train), (x_test, y_test) = mnist.load_data()"
   ]
  },
  {
   "cell_type": "code",
   "execution_count": 52,
   "metadata": {},
   "outputs": [
    {
     "name": "stdout",
     "output_type": "stream",
     "text": [
      "x_train shape: (60000, 28, 28, 1)\n",
      "60000 train samples\n",
      "10000 test samples\n"
     ]
    }
   ],
   "source": [
    "###2.Preprocess\n",
    "# Reshapes data to 4D for Hierarchical RNN.\n",
    "x_train = x_train.reshape(x_train.shape[0], 28, 28, 1)\n",
    "x_test = x_test.reshape(x_test.shape[0], 28, 28, 1)\n",
    "x_train = x_train.astype('float32')\n",
    "x_test = x_test.astype('float32')\n",
    "x_train /= 255\n",
    "x_test /= 255\n",
    "print('x_train shape:', x_train.shape)\n",
    "print(x_train.shape[0], 'train samples')\n",
    "print(x_test.shape[0], 'test samples')\n",
    "# Converts class vectors to binary class matrices.\n",
    "y_train = keras.utils.to_categorical(y_train, num_classes)\n",
    "y_test = keras.utils.to_categorical(y_test, num_classes)"
   ]
  },
  {
   "cell_type": "code",
   "execution_count": 53,
   "metadata": {},
   "outputs": [],
   "source": [
    "#3Training parameters.\n",
    "batch_size = 32\n",
    "num_classes = 10\n",
    "epochs = 5\n",
    "\n",
    "# Embedding dimensions.\n",
    "row_hidden = 128\n",
    "col_hidden = 128"
   ]
  },
  {
   "cell_type": "code",
   "execution_count": 54,
   "metadata": {},
   "outputs": [
    {
     "name": "stdout",
     "output_type": "stream",
     "text": [
      "Epoch 1/5\n",
      "1875/1875 [==============================] - 358s 191ms/step - loss: 0.4646 - accuracy: 0.8457 - val_loss: 0.1199 - val_accuracy: 0.9630\n",
      "Epoch 2/5\n",
      "1875/1875 [==============================] - 373s 199ms/step - loss: 0.1221 - accuracy: 0.9639 - val_loss: 0.0708 - val_accuracy: 0.9780\n",
      "Epoch 3/5\n",
      "1875/1875 [==============================] - 385s 205ms/step - loss: 0.0803 - accuracy: 0.9766 - val_loss: 0.0514 - val_accuracy: 0.9852\n",
      "Epoch 4/5\n",
      "1875/1875 [==============================] - 384s 205ms/step - loss: 0.0647 - accuracy: 0.9802 - val_loss: 0.0512 - val_accuracy: 0.9838\n",
      "Epoch 5/5\n",
      "1875/1875 [==============================] - 380s 203ms/step - loss: 0.0519 - accuracy: 0.9844 - val_loss: 0.0527 - val_accuracy: 0.9834\n"
     ]
    }
   ],
   "source": [
    "###4.Build the model\n",
    "row, col, pixel = x_train.shape[1:]\n",
    "\n",
    "# 4D input.\n",
    "x = Input(shape=(row, col, pixel))\n",
    "\n",
    "# Encodes a row of pixels using TimeDistributed Wrapper.\n",
    "encoded_rows = TimeDistributed(LSTM(row_hidden))(x)\n",
    "\n",
    "# Encodes columns of encoded rows.\n",
    "encoded_columns = LSTM(col_hidden)(encoded_rows)\n",
    "\n",
    "# Final predictions and model.\n",
    "prediction = Dense(num_classes, activation='softmax')(encoded_columns)\n",
    "model = Model(x, prediction)\n",
    "model.compile(loss='categorical_crossentropy',\n",
    "              optimizer='rmsprop',\n",
    "              metrics=['accuracy'])\n",
    "\n",
    "# Training.\n",
    "history_rnn=model.fit(x_train, y_train,\n",
    "          batch_size=batch_size,\n",
    "          epochs=epochs,\n",
    "          verbose=1,\n",
    "          validation_data=(x_test, y_test))"
   ]
  },
  {
   "cell_type": "code",
   "execution_count": 55,
   "metadata": {},
   "outputs": [
    {
     "name": "stdout",
     "output_type": "stream",
     "text": [
      "Test loss: 0.05269181355834007\n",
      "Test accuracy: 0.9833999872207642\n"
     ]
    }
   ],
   "source": [
    "####5.Test\n",
    "# Evaluation.\n",
    "score_rnn = model.evaluate(x_test, y_test, verbose=0)\n",
    "print('Test loss:', score_rnn[0])\n",
    "print('Test accuracy:', score_rnn[1])"
   ]
  },
  {
   "cell_type": "code",
   "execution_count": 56,
   "metadata": {},
   "outputs": [
    {
     "data": {
      "image/png": "[encoded data removed]",
      "text/plain": [
       "<Figure size 432x288 with 1 Axes>"
      ]
     },
     "metadata": {
      "needs_background": "light"
     },
     "output_type": "display_data"
    }
   ],
   "source": [
    "loss = history_rnn.history['loss']\n",
    "epochs = range(1,6)\n",
    "plt.plot(epochs, loss, 'g', label='loss')\n",
    "plt.title('loss')\n",
    "plt.xlabel('Epochs')\n",
    "plt.ylabel('Loss')\n",
    "plt.legend()\n",
    "plt.show()\n",
    "\n"
   ]
  },
  {
   "cell_type": "code",
   "execution_count": 57,
   "metadata": {},
   "outputs": [
    {
     "data": {
      "image/png": "[encoded data removed]",
      "text/plain": [
       "<Figure size 432x288 with 1 Axes>"
      ]
     },
     "metadata": {
      "needs_background": "light"
     },
     "output_type": "display_data"
    }
   ],
   "source": [
    "acc = history_rnn.history['accuracy']\n",
    "epochs = range(1,6)\n",
    "plt.plot(epochs, acc, 'b', label='acc')\n",
    "plt.title('accuracy')\n",
    "plt.xlabel('Epochs')\n",
    "plt.ylabel('accuracy')\n",
    "plt.legend()\n",
    "plt.show()"
   ]
  },
  {
   "cell_type": "markdown",
   "metadata": {},
   "source": [
    "# Conclusion"
   ]
  },
  {
   "cell_type": "code",
   "execution_count": 67,
   "metadata": {},
   "outputs": [
    {
     "data": {
      "image/png": "[encoded data removed]",
      "text/plain": [
       "<Figure size 432x288 with 1 Axes>"
      ]
     },
     "metadata": {
      "needs_background": "light"
     },
     "output_type": "display_data"
    },
    {
     "data": {
      "text/plain": [
       "<Figure size 432x288 with 0 Axes>"
      ]
     },
     "metadata": {},
     "output_type": "display_data"
    }
   ],
   "source": [
    "import matplotlib.pyplot as plt\n",
    "\n",
    "# Loss\n",
    "# x-coordinates of left sides of bars \n",
    "left = [1, 2, 3]\n",
    "  \n",
    "# heights of bars\n",
    "Loss = [score_ann[0], score_cnn[0], score_rnn[0]]\n",
    "  \n",
    "# labels for bars\n",
    "tick_label = ['Loss_ann', 'Loss_cnn', 'Loss_rnn']\n",
    "  \n",
    "# plotting a bar chart\n",
    "plt.bar(left, Loss, tick_label = tick_label,\n",
    "        width = 0.8) #, color = ['red', 'green']\n",
    "  \n",
    "# naming the x-axis\n",
    "plt.xlabel('loss')\n",
    "# naming the y-axis\n",
    "plt.ylabel('Algorithms')\n",
    "# plot title\n",
    "plt.title('Loss Chart')\n",
    "  \n",
    "# function to show the plot\n",
    "plt.show()\n",
    "\n",
    "plt.savefig('Conclusion_loss.png')"
   ]
  },
  {
   "cell_type": "code",
   "execution_count": 68,
   "metadata": {},
   "outputs": [
    {
     "data": {
      "image/png": "[encoded data removed]",
      "text/plain": [
       "<Figure size 432x288 with 1 Axes>"
      ]
     },
     "metadata": {
      "needs_background": "light"
     },
     "output_type": "display_data"
    },
    {
     "data": {
      "text/plain": [
       "<Figure size 432x288 with 0 Axes>"
      ]
     },
     "metadata": {},
     "output_type": "display_data"
    }
   ],
   "source": [
    "#Accuracy\n",
    "\n",
    "left = [1, 2, 3]\n",
    "accs = [score_ann[1], score_cnn[1], score_rnn[1]] \n",
    "tick_label = ['acc_ann', 'acc_cnn', 'acc_rnn']\n",
    "  \n",
    "# plotting a bar chart\n",
    "plt.bar(left, accs, tick_label = tick_label,\n",
    "        width = 0.8) #, color = ['red', 'green']\n",
    "  \n",
    "plt.xlabel('accuracy')\n",
    "plt.ylabel('Algorithms')\n",
    "plt.title('accuracy Chart')\n",
    "plt.show()\n",
    "\n",
    "plt.savefig('Conclusion_acc.png')"
   ]
  },
  {
   "cell_type": "code",
   "execution_count": null,
   "metadata": {},
   "outputs": [],
   "source": []
  }
 ],
 "metadata": {
  "kernelspec": {
   "display_name": "Python 3",
   "language": "python",
   "name": "python3"
  },
  "language_info": {
   "codemirror_mode": {
    "name": "ipython",
    "version": 3
   },
   "file_extension": ".py",
   "mimetype": "text/x-python",
   "name": "python",
   "nbconvert_exporter": "python",
   "pygments_lexer": "ipython3",
   "version": "3.7.1"
  }
 },
 "nbformat": 4,
 "nbformat_minor": 4
}
